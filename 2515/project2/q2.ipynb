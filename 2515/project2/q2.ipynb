{
 "cells": [
  {
   "cell_type": "code",
   "execution_count": null,
   "metadata": {},
   "outputs": [],
   "source": []
  },
  {
   "cell_type": "code",
   "execution_count": null,
   "metadata": {},
   "outputs": [],
   "source": []
  },
  {
   "cell_type": "code",
   "execution_count": 2,
   "metadata": {},
   "outputs": [
    {
     "name": "stdout",
     "output_type": "stream",
     "text": [
      "President 0: Washington\n",
      "President 1: Adams\n",
      "President 2: Jefferson\n",
      "President 3: Madison\n",
      "President 4: Monroe\n",
      "President 5: Adams\n",
      "President 6: Jackson\n"
     ]
    }
   ],
   "source": [
    "presidents = [\"Washington\", \"Adams\", \"Jefferson\", \"Madison\", \"Monroe\", \"Adams\", \"Jackson\"]\n",
    "for num, name in enumerate(presidents, start=0):\n",
    "    print(\"President {}: {}\".format(num, name))\n"
   ]
  },
  {
   "cell_type": "code",
   "execution_count": null,
   "metadata": {},
   "outputs": [],
   "source": []
  },
  {
   "cell_type": "code",
   "execution_count": 3,
   "metadata": {},
   "outputs": [
    {
     "data": {
      "image/png": "[encoded data removed]",
      "text/plain": [
       "<Figure size 432x288 with 1 Axes>"
      ]
     },
     "metadata": {
      "needs_background": "light"
     },
     "output_type": "display_data"
    }
   ],
   "source": [
    "# -*- coding: utf-8 -*-\n",
    "\n",
    "from __future__ import print_function\n",
    "import matplotlib.pyplot as plt\n",
    "import numpy as np\n",
    "from sklearn.datasets import load_boston\n",
    "from scipy.special import logsumexp\n",
    "%matplotlib inline\n",
    "# from sklearn.model_selection import train_test_split\n",
    "\n",
    "np.random.seed(0)\n",
    "\n",
    "# load boston housing prices dataset\n",
    "boston = load_boston()\n",
    "x = boston['data']\n",
    "N = x.shape[0]\n",
    "x = np.concatenate((np.ones((506,1)),x),axis=1) #add constant one feature - no bias needed\n",
    "d = x.shape[1]\n",
    "y = boston['target']\n",
    "\n",
    "idx = np.random.permutation(range(N))\n",
    "\n",
    "#helper function\n",
    "def l2(A,B):\n",
    "    '''\n",
    "    Input: A is a Nxd matrix\n",
    "           B is a Mxd matirx\n",
    "    Output: dist is a NxM matrix where dist[i,j] is the square norm between A[i,:] and B[j,:]\n",
    "    i.e. dist[i,j] = ||A[i,:]-B[j,:]||^2\n",
    "    '''\n",
    "    A_norm = (A**2).sum(axis=1).reshape(A.shape[0],1)\n",
    "    B_norm = (B**2).sum(axis=1).reshape(1,B.shape[0])\n",
    "    dist = A_norm+B_norm-2*A.dot(B.transpose())\n",
    "    return dist\n",
    "\n",
    " #to implement\n",
    "def LRLS(test_datum,x_train,y_train, tau,lam=1e-5):\n",
    "    '''\n",
    "    iterative reweighted least squares\n",
    "    Input: test_datum is a dx1 test vector\n",
    "           x_train is the N_train x d design matrix\n",
    "           y_train is the N_train x 1 targets vector\n",
    "           tau is the local reweighting parameter\n",
    "           lam is the regularization parameter\n",
    "    output is y_hat the prediction on test_datum\n",
    "    '''\n",
    "    # calculate A using I2(A,B)\n",
    "    #reshape datum\n",
    "    \n",
    "    datum = test_datum.reshape(1,test_datum.shape[0])\n",
    "   \n",
    "    #x-xi\n",
    "    norms = l2(datum, x_train)\n",
    "    #numerator\n",
    "    numerator = -norms / (2 * (tau ** 2))\n",
    "    #denominator logsumexp\n",
    "    #exp(x-xi)/sumexp(x-xj)=exp((x-xi)-logsumexp(x-xj))\n",
    "    denominator=logsumexp(-norms / (2 * (tau ** 2)))\n",
    "    Ai= np.exp(numerator - denominator)\n",
    "    \n",
    "    A=np.diagflat(Ai)\n",
    "    n=x_train.shape[1]\n",
    "    # implement the equation obtained from the question 2a). terative reweighted least squares\n",
    "    #W is the unknown eqaution\n",
    "    #print(x_train.shape,A.shape,y_train.shape)\n",
    "    right= x_train.T.dot(A).dot(y_train)\n",
    "    left=np.dot(x_train.T,np.dot(A,x_train))+lam*np.identity(n)\n",
    "    \n",
    "    #solve the equation\n",
    "    w = np.linalg.solve(left, right)\n",
    "\n",
    "    y_hat = datum.dot(w)\n",
    "    \n",
    "    return y_hat\n",
    "\n",
    "\n",
    "def run_validation(x,y,taus,val_frac):\n",
    "    '''\n",
    "    Input: x is the N x d design matrix\n",
    "           y is the N x 1 targets vector    \n",
    "           taus is a vector of tau values to evaluate\n",
    "           val_frac is the fraction of examples to use as validation data\n",
    "    output is\n",
    "           a vector of training losses, one for each tau value\n",
    "           a vector of validation losses, one for each tau value\n",
    "    '''\n",
    "#     #method 1\n",
    "#     Randomly split the X's into training (70%), validation examples (30%)\n",
    "#     featuredata=boston.data\n",
    "#     targetdata=boston.target\n",
    "#     featurenames=boston.feature_names\n",
    "#     #print(targetdata.shape)\n",
    "#     #d = {'data': targetdata, 'feature': featuredata}\n",
    "#     dfall= pd.DataFrame(featuredata,columns=featurenames)\n",
    "#     dfall['target']=targetdata\n",
    "#     dfx=pd.DataFrame(x)\n",
    "#     dfy=targetdata\n",
    "#     split train data and test data\n",
    "#     train_x, test_x,train_y,test_y= train_test_split(x,y,test_size=0.3, random_state=100)\n",
    "    \n",
    "    # random split the x into train_x and test_x. random split the y into train_y and test_y. \n",
    "    #https://www.programcreek.com/python/example/63665/numpy.random.permutation exmaple 15\n",
    "    new_x=x[idx]\n",
    "    new_y=y[idx]\n",
    "    n=int(new_x.shape[0]*(1-val_frac))\n",
    "    train_x,test_x=new_x[:n,],new_x[n:,]\n",
    "    train_y,test_y=new_y[:n,],new_y[n:,]\n",
    "    #initialize empty array\n",
    "    train_loss=[]\n",
    "    validation_loss=[]\n",
    "    train_error=[]\n",
    "    validation_error=[]\n",
    "    \n",
    "    #//https://treyhunner.com/2016/04/how-to-loop-with-indexes-in-python/\n",
    "    \n",
    "    for i, tau in enumerate(taus):\n",
    "        for j, xi in enumerate(train_x):\n",
    "            #get the predicted y\n",
    "            y_hat = LRLS(xi, train_x, train_y, tau)\n",
    "            \n",
    "            train_error.append((y_hat - train_y[j])**2)\n",
    "            \n",
    "        for j, xi in enumerate(test_x):\n",
    "            #get the predicted y\n",
    "            y_hat = LRLS(xi, train_x, train_y, tau)\n",
    "            validation_error.append((y_hat - test_y[j])**2)\n",
    "        #generate the loss function （mean square loss）\n",
    "        train_msl=np.mean(train_error)\n",
    "        validation_msl=np.mean(validation_error)   \n",
    "        train_loss.append(train_msl)\n",
    "        validation_loss.append(validation_msl)\n",
    "\n",
    "        #empty array\n",
    "        train_msl=[]\n",
    "        validation_msl=[]\n",
    "        train_error=[]\n",
    "        validation_error=[]\n",
    "    \n",
    "  \n",
    "        \n",
    "    return train_loss, validation_loss\n",
    "\n",
    "\n",
    "if __name__ == \"__main__\":\n",
    "    # In this excersice we fixed lambda (hard coded to 1e-5) and only set tau value. Feel free to play with lambda as well if you wish\n",
    "    taus = np.logspace(1,3,100) # generate 30 numbers within [10,1000] \n",
    "    train_losses, test_losses = run_validation(x,y,taus,val_frac=0.3)\n",
    "    plt.semilogx(train_losses,label=\"train\")\n",
    "    plt.semilogx(test_losses,label=\"test\")\n",
    "    plt.legend()\n",
    "    plt.show()\n",
    "\n",
    "\n",
    "  \n",
    "\n"
   ]
  },
  {
   "cell_type": "code",
   "execution_count": 2,
   "metadata": {},
   "outputs": [
    {
     "data": {
      "text/plain": [
       "array([1.0000e+00, 2.7310e-02, 0.0000e+00, 7.0700e+00, 0.0000e+00,\n",
       "       4.6900e-01, 6.4210e+00, 7.8900e+01, 4.9671e+00, 2.0000e+00,\n",
       "       2.4200e+02, 1.7800e+01, 3.9690e+02, 9.1400e+00])"
      ]
     },
     "execution_count": 2,
     "metadata": {},
     "output_type": "execute_result"
    }
   ],
   "source": [
    "x[1]"
   ]
  },
  {
   "cell_type": "code",
   "execution_count": 25,
   "metadata": {},
   "outputs": [],
   "source": [
    "n=int(x.shape[0]*(1-0.3))"
   ]
  },
  {
   "cell_type": "code",
   "execution_count": 26,
   "metadata": {},
   "outputs": [
    {
     "data": {
      "text/plain": [
       "354"
      ]
     },
     "execution_count": 26,
     "metadata": {},
     "output_type": "execute_result"
    }
   ],
   "source": [
    "n"
   ]
  },
  {
   "cell_type": "code",
   "execution_count": 28,
   "metadata": {},
   "outputs": [],
   "source": [
    "train_x,test_x=x[:n,],x[n:,]"
   ]
  },
  {
   "cell_type": "code",
   "execution_count": 30,
   "metadata": {},
   "outputs": [
    {
     "data": {
      "text/plain": [
       "(354, 14)"
      ]
     },
     "execution_count": 30,
     "metadata": {},
     "output_type": "execute_result"
    }
   ],
   "source": [
    "train_x.shape"
   ]
  },
  {
   "cell_type": "code",
   "execution_count": null,
   "metadata": {},
   "outputs": [],
   "source": []
  }
 ],
 "metadata": {
  "kernelspec": {
   "display_name": "Python 3",
   "language": "python",
   "name": "python3"
  },
  "language_info": {
   "codemirror_mode": {
    "name": "ipython",
    "version": 3
   },
   "file_extension": ".py",
   "mimetype": "text/x-python",
   "name": "python",
   "nbconvert_exporter": "python",
   "pygments_lexer": "ipython3",
   "version": "3.7.4"
  }
 },
 "nbformat": 4,
 "nbformat_minor": 2
}
